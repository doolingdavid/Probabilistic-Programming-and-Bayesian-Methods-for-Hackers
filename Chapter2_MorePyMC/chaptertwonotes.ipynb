{
 "cells": [
  {
   "cell_type": "code",
   "execution_count": 1,
   "metadata": {
    "collapsed": true
   },
   "outputs": [],
   "source": [
    "import numpy as np\n",
    "import pandas as pd\n",
    "import matplotlib.pyplot as plt\n",
    "from pandas import Series, DataFrame\n",
    "import pytz\n",
    "from pytz import common_timezones, all_timezones\n",
    "import matplotlib\n",
    "matplotlib.style.use('ggplot')\n",
    "%matplotlib inline\n",
    "from datetime import datetime\n",
    "#from __future__ import print_function"
   ]
  },
  {
   "cell_type": "markdown",
   "metadata": {},
   "source": [
    "## 2.1 Introduction\n",
    "\n",
    "This chapter introduces more PyMC syntax and design patterns, and ways to think about how to model a system from a Bayesian perspective. It also contains tips and data visualization techniques for assesing goodness of fit for your Bayesian model."
   ]
  },
  {
   "cell_type": "markdown",
   "metadata": {},
   "source": [
    "#### 2.1.1 Parent and Child Relationships\n",
    "\n",
    "To assist with describing Bayesisan relationships and to be consistent with PyMC's documentation, we introduce _parent_ and _child_ variables.\n",
    "\n",
    "* **Parent variables** are variables that influence another variable.\n",
    "* **Child variables** are variables that are affected by other variables - that is, are the subject of parent variables.\n",
    "\n",
    "A variable can be both a parent and child. For example, consider the following PyMC code:"
   ]
  },
  {
   "cell_type": "code",
   "execution_count": 2,
   "metadata": {
    "collapsed": true
   },
   "outputs": [],
   "source": [
    "import pymc as pm\n",
    "\n",
    "lambda_ = pm.Exponential(\"poisson_param\", 1)\n",
    "# used in the call to the next variable ...\n",
    "data_generator = pm.Poisson(\"data_generator\", lambda_)\n",
    "\n",
    "data_plus_one = data_generator + 1"
   ]
  },
  {
   "cell_type": "markdown",
   "metadata": {},
   "source": [
    "```lambda_``` controls the parameter of ```data_generator```, hence influences its values. The former is a parent of the latter. By symmetry, ```data_generator``` is a child of ```lambda_```.\n",
    "\n",
    "Likewise, ```data_generator``` is a parent to the variable ```data_plus_one``` (hence making ```data_generator``` both a parent and child variable). Although it does not look like one, ```data_plus_one``` should be treated as a PyMC variable as it is a _function_ of another PyMC variable, hence is a child variable to ```data_generator```\n",
    "\n",
    "This nomentclature is introduced to help us describe relationships in PyMC modeling. You can access a variable's children and parent variables using the ```children``` and ```parents``` attributes attached to variables.\n",
    "\n"
   ]
  },
  {
   "cell_type": "code",
   "execution_count": 3,
   "metadata": {
    "collapsed": false
   },
   "outputs": [
    {
     "name": "stdout",
     "output_type": "stream",
     "text": [
      "Children of 'lambda_': \n",
      "set([<pymc.distributions.Poisson 'data_generator' at 0x000000000C7F2240>])\n",
      "\n",
      " Parents of 'data_generator': \n",
      "{'mu': <pymc.distributions.Exponential 'poisson_param' at 0x0000000008B965C0>}\n",
      "\n",
      " Children of 'data_generator': \n",
      "set([<pymc.PyMCObjects.Deterministic '(data_generator_add_1)' at 0x0000000008B964A8>])\n"
     ]
    }
   ],
   "source": [
    "print \"Children of 'lambda_': \"\n",
    "print lambda_.children\n",
    "print \"\\n Parents of 'data_generator': \"\n",
    "print data_generator.parents\n",
    "print \"\\n Children of 'data_generator': \"\n",
    "print data_generator.children"
   ]
  },
  {
   "cell_type": "markdown",
   "metadata": {},
   "source": [
    "### 2.1.2 PyMC Variables\n",
    "\n",
    "All PyMC variables expose a ```value``` property. This property produces the _current_ (possibly random) internal value of the variable. If the variable is a child variable, its value changes given the variable's parents' values.\n",
    "Using the same variables from before:"
   ]
  },
  {
   "cell_type": "code",
   "execution_count": 4,
   "metadata": {
    "collapsed": false
   },
   "outputs": [
    {
     "name": "stdout",
     "output_type": "stream",
     "text": [
      "lambda_.value =  0.714540440115\n",
      "data_generator.value =  0\n",
      "data_plus_one.value =  1\n"
     ]
    }
   ],
   "source": [
    "print \"lambda_.value = \", lambda_.value\n",
    "print \"data_generator.value = \", data_generator.value\n",
    "print \"data_plus_one.value = \", data_plus_one.value"
   ]
  },
  {
   "cell_type": "markdown",
   "metadata": {},
   "source": [
    "PyMC is concerned with two types of programming variables: ```Stochastic``` and ```deterministic```.\n",
    "\n",
    "* **Stochastic variables** are variables that are not deterministic, i.e. even if you knew all the values of the variables' parents (if if even has any parents), it would still be random. Included in this category are instances of classes ```Poisson, DiscreteUniform```, and ```Exponential```.\n",
    "* **Deterministic variables** are variables that are not random if the variables's parents are known. This might be confusing at first; a quick mental check is _if I knew all of the variale foo's parent variables' values, I could determine exactly what foo's value is._"
   ]
  },
  {
   "cell_type": "markdown",
   "metadata": {},
   "source": [
    "### Initializing Stochastic Variables\n",
    "\n",
    "The first argument in initializing a stochastic variable is a string that represents the name of the variable.\n",
    "After that are additional arguments that are class-specific. Zum Beispeil:"
   ]
  },
  {
   "cell_type": "code",
   "execution_count": 5,
   "metadata": {
    "collapsed": true
   },
   "outputs": [],
   "source": [
    "some_variable = pm.DiscreteUniform(\"discrete_uni_var\", 0, 4)"
   ]
  },
  {
   "cell_type": "markdown",
   "metadata": {},
   "source": [
    "where 0, 4 are the ```DiscreteUniform```-specific lower and upper bound on the random variable."
   ]
  },
  {
   "cell_type": "code",
   "execution_count": 7,
   "metadata": {
    "collapsed": true
   },
   "outputs": [],
   "source": [
    "# pm.DiscreteUniform??"
   ]
  },
  {
   "cell_type": "markdown",
   "metadata": {},
   "source": [
    "The name argument is used to retreive the posterior distribution later in the analysis, so it is best to use a descriptive name. Typically, I use the Python variable's name.\n",
    "\n",
    "For multivariable problems, rather than creating a Python array of stochastic variables, setting the ```size``` keyword in the call to a ```Stochastic``` variable creates an array of (independent) stochastic variables. The array behaves like a NumPy array when used like one, and references to its ```value``` attribute return NumPy arrays.\n",
    "\n",
    "The ```size``` argument also solves the annoying case wher eyou may have many variables\n",
    "$\\beta_i, i = 1, ... N$ you wish to model.\n",
    "Instead of creating arbitrary names and variabels for each one, like:\n",
    "\n",
    "```\n",
    "beta_1 = pm.Uniform(\"beta_1\", 0, 1)\n",
    "beta_2 = pm.Uniform(\"beta_2\", 0, 1)\n",
    "...\n",
    "```\n",
    "\n",
    "We can instead wrap them in a single variable:\n",
    "```\n",
    "betas = pm.Uniform(\"betas\", 0, 1, size=N)\n",
    "```"
   ]
  },
  {
   "cell_type": "code",
   "execution_count": 9,
   "metadata": {
    "collapsed": true
   },
   "outputs": [],
   "source": [
    "## pm.Uniform??"
   ]
  },
  {
   "cell_type": "markdown",
   "metadata": {},
   "source": [
    "### Calling ```random()```\n",
    "\n",
    "We can also call on a stochastic variable's ```random()``` method, which (given the parent values) will generate a new, random value.\n",
    "We demonstrate this using the texting example from Chapter 1"
   ]
  },
  {
   "cell_type": "code",
   "execution_count": 11,
   "metadata": {
    "collapsed": true
   },
   "outputs": [],
   "source": [
    "lambda_1 = pm.Exponential(\"lambda_1\", 1) # prior on first behavior\n",
    "lambda_2 = pm.Exponential(\"lambda_2\", 1) # prior on second behavior\n",
    "tau = pm.DiscreteUniform(\"tau\", lower=0, upper = 10) # prior on behavior change"
   ]
  },
  {
   "cell_type": "code",
   "execution_count": 14,
   "metadata": {
    "collapsed": false
   },
   "outputs": [
    {
     "name": "stdout",
     "output_type": "stream",
     "text": [
      "Initialized values ... \n",
      "lambda_1.value: 0.465 \n",
      "lambda_2.value: 0.998 \n",
      "tau.value: 6.000 \n",
      "After calling random() on the variables ... \n",
      "lambda_1.value: 0.042 \n",
      "lambda_2.value: 0.440 \n",
      "tau.value: 10.000 \n"
     ]
    }
   ],
   "source": [
    "print \"Initialized values ... \"\n",
    "print \"lambda_1.value: %.3f \" % lambda_1.value\n",
    "print \"lambda_2.value: %.3f \" % lambda_2.value\n",
    "print \"tau.value: %.3f \" % tau.value\n",
    "\n",
    "lambda_1.random(), lambda_2.random(), tau.random()\n",
    "\n",
    "print \"After calling random() on the variables ... \"\n",
    "print \"lambda_1.value: %.3f \" % lambda_1.value\n",
    "print \"lambda_2.value: %.3f \" % lambda_2.value\n",
    "print \"tau.value: %.3f \" % tau.value"
   ]
  },
  {
   "cell_type": "markdown",
   "metadata": {},
   "source": [
    "The call to ```random``` stores a new value into the variable's ```value``` attribute."
   ]
  },
  {
   "cell_type": "markdown",
   "metadata": {},
   "source": [
    "### Determistic Variables\n",
    "\n",
    "Since most variables you will be modeling are stochastic, we distinguish variables with a \n",
    "```pymc.deterministic``` wrapper. (If you are unfamiliar with Python wrappers - also called _decorators_ - that's no problem. Just prepend the ```pymc.deterministic``` decorator before the variable declaration and you're good to go.) The declaration of a deterministic variable uses a Python function:\n",
    "\n",
    "```\n",
    "@pm.deterministic\n",
    "def some_deterministic_var(v1=v1,):\n",
    "    # jelly goes here.\n",
    "```\n",
    "\n",
    "\n",
    "For all purposes, we treat the object ```some deterministic var``` as a variable and not a Python function.\n",
    "\n",
    "Prepending with the wrapper is the easiest way, but not the only way, to create deterministic variables. Elementary operations, like addition, exponentials, and so forth implicitly create deterministic variables. Zum Beispeil, the following returns a deterministic variable:\n",
    "\n",
    "```\n",
    "type(lambda_1 + lambda_2)\n",
    "```"
   ]
  },
  {
   "cell_type": "code",
   "execution_count": 15,
   "metadata": {
    "collapsed": false
   },
   "outputs": [
    {
     "data": {
      "text/plain": [
       "pymc.PyMCObjects.Deterministic"
      ]
     },
     "execution_count": 15,
     "metadata": {},
     "output_type": "execute_result"
    }
   ],
   "source": [
    "type(lambda_1 + lambda_2)"
   ]
  },
  {
   "cell_type": "code",
   "execution_count": 16,
   "metadata": {
    "collapsed": true
   },
   "outputs": [],
   "source": [
    "import numpy as np\n",
    "n_data_points = 5\n",
    "\n",
    "@pm.deterministic\n",
    "def lambda_(tau = tau, lambda_1=lambda_1,lambda_2 =lambda_2):\n",
    "    out = np.zeros(n_data_points)\n",
    "    out[:tau] = lambda_1\n",
    "    out[tau:] = lambda_2\n",
    "    return out"
   ]
  },
  {
   "cell_type": "markdown",
   "metadata": {},
   "source": [
    "Clearly, if $\\tau, \\lambda_1$ and $\\lambda_2$ are known, then $\\lambda$ is known completely; hence, it is a \n",
    "deterministic variable.\n",
    "\n",
    "Inside the deterministic decorator, the ```Stochastic``` variables passed in behave like scalars or NumPy arrays (if multivariable), and _not_ like ```Stochastic``` variables. For example:\n",
    "\n",
    "```\n",
    "@pm.deterministic\n",
    "def some_deterministic(stoch=some_stochastic_var):\n",
    "    return stoch.value**2\n",
    "```\n",
    "\n",
    "will return an ```AttributeError``` detailing that ```stoch``` does not have a ```value``` attribute.\n",
    "It simply needs to be ```stoch**2```.\n",
    "During the learning phase, it's the variable's ```value``` that is repeatedly passed in, not the actual stochastic variable.\n",
    "\n",
    "Notice that in the creation of the deterministic function that we use keyword arguments for each variable used in the function. This is a necessary step, and all variables _must_ be specified with keyword arguments."
   ]
  },
  {
   "cell_type": "markdown",
   "metadata": {},
   "source": [
    "### Including Observations in the Model\n",
    "\n",
    "At this point, it may not look like it, but we have fully specified our priors. For example, we can ask and answer questions like, \"What does my prior distribution of $\\lambda_1$ look like?\", as demonstrated below:"
   ]
  },
  {
   "cell_type": "code",
   "execution_count": 22,
   "metadata": {
    "collapsed": false
   },
   "outputs": [
    {
     "data": {
      "text/plain": [
       "(0, 10)"
      ]
     },
     "execution_count": 22,
     "metadata": {},
     "output_type": "execute_result"
    },
    {
     "data": {
      "image/png": "[encoded data removed]",
      "text/plain": [
       "<matplotlib.figure.Figure at 0xc9352e8>"
      ]
     },
     "metadata": {},
     "output_type": "display_data"
    }
   ],
   "source": [
    "from IPython.core.pylabtools import figsize\n",
    "from matplotlib import pyplot as plot\n",
    "figsize(12.5, 4)\n",
    "plt.rcParams['savefig.dpi'] = 300\n",
    "plt.rcParams['figure.dpi'] = 300\n",
    "samples = [lambda_1.random() for i in range(20000)]\n",
    "\n",
    "plt.hist(samples, bins=70, normed=True,histtype=\"stepfilled\")\n",
    "plt.title(\"Prior distribution for $\\lambda_1$\")\n",
    "plt.xlabel(\"Value\")\n",
    "plt.ylabel(\"Density\")\n",
    "plt.xlim(0,10)"
   ]
  },
  {
   "cell_type": "markdown",
   "metadata": {},
   "source": [
    "To frame this in the notation of chapter 1, though this is a slight abuse of notation, we have specified P(A). Our next goal is to include data/evidence/observations X into our model. We model this next.\n",
    "\n",
    "PyMC stochastic variables have an additional keyword argument ```observed``` which accepts a boolean (```False``` by default).\n",
    "The keyword ```observed``` has a very simple role: fix the variable's current value. That is, it makes ```value``` immutable. We hvea to specifiy an initial ```value``` in the variable's creation, equal to the observations we wish to include, typically an array (and it should be a NumPy array for speed.) for example:"
   ]
  },
  {
   "cell_type": "code",
   "execution_count": 20,
   "metadata": {
    "collapsed": false
   },
   "outputs": [
    {
     "name": "stdout",
     "output_type": "stream",
     "text": [
      "value:  [10  5]\n",
      "Calling .random()\n",
      "value:  [10  5]\n"
     ]
    }
   ],
   "source": [
    "data = np.array([10, 5])\n",
    "fixed_variable = pm.Poisson(\"fxd\", 1, value=data, observed=True)\n",
    "print \"value: \", fixed_variable.value\n",
    "print \"Calling .random()\"\n",
    "fixed_variable.random()\n",
    "print \"value: \", fixed_variable.value"
   ]
  },
  {
   "cell_type": "markdown",
   "metadata": {},
   "source": [
    "This is how we include data into our models: initializing a stochastic variable to have a _fixed value_.\n",
    "To complete our text-message example, we fix the PyMC variable ```observations`` to the observed dataset."
   ]
  },
  {
   "cell_type": "code",
   "execution_count": 21,
   "metadata": {
    "collapsed": false
   },
   "outputs": [
    {
     "name": "stdout",
     "output_type": "stream",
     "text": [
      "[10 25 15 20 35]\n"
     ]
    }
   ],
   "source": [
    "# We're using some fake data here.\n",
    "data = np.array([10, 25, 15, 20, 35])\n",
    "obs = pm.Poisson(\"obs\", lambda_, value=data, observed=True)\n",
    "print obs.value"
   ]
  },
  {
   "cell_type": "markdown",
   "metadata": {},
   "source": [
    "### 2.1.4 Finally...\n",
    "\n",
    "We wrap all the created variables into a ```pm.Model``` class. With this ```Model``` class, we can analyze the variables as a single unit. This is an optional step, as the fitting algorithms can be sent an array of the variables rather than a ```Model``` class. I may or may not perform this step in all future examples"
   ]
  },
  {
   "cell_type": "code",
   "execution_count": 23,
   "metadata": {
    "collapsed": true
   },
   "outputs": [],
   "source": [
    "model = pm. Model([obs, lambda_, lambda_1, lambda_2, tau])"
   ]
  },
  {
   "cell_type": "markdown",
   "metadata": {},
   "source": [
    "### 2.2 Modeling Approaches\n",
    "\n",
    "A good starting thought to Bayesian modeling is to think about _how your data might have been generated_. Position yourself as an omniscent controller, and try to imagine how _you_ would recreate the dataset.\n",
    "\n",
    "In Chapter 1, we investigated text-message data.\n",
    "We began by asking how our observations may have been generated.\n",
    "\n",
    "1. We started by thinking, \"What is the best random variable to descirbe this count data?\" A Poisson random variable is a good candidate because it can represent count data well. So we model the number of text messages received as sampled from a Poisson distribution.\n",
    "2. Next, we think, \"OK, assuming text messages are Poisson-distributed, what do I need for the Poisson distribution?\" Well, the \n",
    "Poisson distribution has a parameter $\\lambda$.\n",
    "3. Do we know $\\lambda$? No. In fact, we have a suspiciion that there are _two_ $\\lambda$ values, one for earlier behavior and one for later behavior. We don't know when the behavior switches, though, but call the switchpoint $\\tau$.\n",
    "4. What is a good distribution for the two $\\lambda$s? The exponential is good, as it assigns probabilities to positive real numbers. Well, the exponential distribution has a parameter too - call it $\\alpha$.\n",
    "5. Do we know what the parameter $\\alpha$ might be? No. At this point, we could continue and assign a distribution to $\\alpha$, but it's better to stop once we reach a set level of ignorance; whereas we have a prior belief about $\\lambda$ (\"If probably changes over time,\" \"it'slikely between 10 and 30,\" etc.), we don't really have any strong beliefs about $\\alpha$. So it's best to stop modeling here. What is a good value for $\\alpha$, then? We think that the $\\lambda$s are between 10 and 30, so if we set $\\alpha$ really low (which corresponds to larger probability on high values) we are not reflecting our prior well. Similarly, a too-high $\\alpha$ misses our prior belief as well. A good idea for $\\alpha$ ro reflect our beliefs about $\\lambda$ is to set the value so that the mean of $\\lambda$, given $\\alpha$, is equal to our observed mean.\n",
    "6. We have no expert opinion of when $\\tau$ might have occured. So we suppose $\\tau$ is from a discrete uniform distibution over the entire time span.\n",
    "\n"
   ]
  },
  {
   "cell_type": "code",
   "execution_count": null,
   "metadata": {
    "collapsed": true
   },
   "outputs": [],
   "source": []
  }
 ],
 "metadata": {
  "kernelspec": {
   "display_name": "Python 2",
   "language": "python",
   "name": "python2"
  },
  "language_info": {
   "codemirror_mode": {
    "name": "ipython",
    "version": 2
   },
   "file_extension": ".py",
   "mimetype": "text/x-python",
   "name": "python",
   "nbconvert_exporter": "python",
   "pygments_lexer": "ipython2",
   "version": "2.7.11"
  }
 },
 "nbformat": 4,
 "nbformat_minor": 0
}
