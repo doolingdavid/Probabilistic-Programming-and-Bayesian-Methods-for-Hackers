{
 "cells": [
  {
   "cell_type": "code",
   "execution_count": 1,
   "metadata": {
    "collapsed": true
   },
   "outputs": [],
   "source": [
    "import numpy as np\n",
    "import pandas as pd\n",
    "import matplotlib.pyplot as plt\n",
    "from pandas import Series, DataFrame\n",
    "import pytz\n",
    "from pytz import common_timezones, all_timezones\n",
    "import matplotlib\n",
    "matplotlib.style.use('ggplot')\n",
    "%matplotlib inline\n",
    "from datetime import datetime\n",
    "#from __future__ import print_function"
   ]
  },
  {
   "cell_type": "markdown",
   "metadata": {},
   "source": [
    "## 2.1 Introduction\n",
    "\n",
    "This chapter introduces more PyMC syntax and design patterns, and ways to think about how to model a system from a Bayesian perspective. It also contains tips and data visualization techniques for assesing goodness of fit for your Bayesian model."
   ]
  },
  {
   "cell_type": "markdown",
   "metadata": {},
   "source": [
    "#### 2.1.1 Parent and Child Relationships\n",
    "\n",
    "To assist with describing Bayesisan relationships and to be consistent with PyMC's documentation, we introduce _parent_ and _child_ variables.\n",
    "\n",
    "* **Parent variables** are variables that influence another variable.\n",
    "* **Child variables** are variables that are affected by other variables - that is, are the subject of parent variables.\n",
    "\n",
    "A variable can be both a parent and child. For example, consider the following PyMC code:"
   ]
  },
  {
   "cell_type": "code",
   "execution_count": 2,
   "metadata": {
    "collapsed": true
   },
   "outputs": [],
   "source": [
    "import pymc as pm\n",
    "\n",
    "lambda_ = pm.Exponential(\"poisson_param\", 1)\n",
    "# used in the call to the next variable ...\n",
    "data_generator = pm.Poisson(\"data_generator\", lambda_)\n",
    "\n",
    "data_plus_one = data_generator + 1"
   ]
  },
  {
   "cell_type": "markdown",
   "metadata": {},
   "source": [
    "```lambda_``` controls the parameter of ```data_generator```, hence influences its values. The former is a parent of the latter. By symmetry, ```data_generator``` is a child of ```lambda_```.\n",
    "\n",
    "Likewise, ```data_generator``` is a parent to the variable ```data_plus_one``` (hence making ```data_generator``` both a parent and child variable). Although it does not look like one, ```data_plus_one``` should be treated as a PyMC variable as it is a _function_ of another PyMC variable, hence is a child variable to ```data_generator```\n",
    "\n",
    "This nomentclature is introduced to help us describe relationships in PyMC modeling. You can access a variable's children and parent variables using the ```children``` and ```parents``` attributes attached to variables.\n",
    "\n"
   ]
  },
  {
   "cell_type": "code",
   "execution_count": 3,
   "metadata": {
    "collapsed": false
   },
   "outputs": [
    {
     "name": "stdout",
     "output_type": "stream",
     "text": [
      "Children of 'lambda_': \n",
      "set([<pymc.distributions.Poisson 'data_generator' at 0x000000000C7F2240>])\n",
      "\n",
      " Parents of 'data_generator': \n",
      "{'mu': <pymc.distributions.Exponential 'poisson_param' at 0x0000000008B965C0>}\n",
      "\n",
      " Children of 'data_generator': \n",
      "set([<pymc.PyMCObjects.Deterministic '(data_generator_add_1)' at 0x0000000008B964A8>])\n"
     ]
    }
   ],
   "source": [
    "print \"Children of 'lambda_': \"\n",
    "print lambda_.children\n",
    "print \"\\n Parents of 'data_generator': \"\n",
    "print data_generator.parents\n",
    "print \"\\n Children of 'data_generator': \"\n",
    "print data_generator.children"
   ]
  },
  {
   "cell_type": "code",
   "execution_count": null,
   "metadata": {
    "collapsed": true
   },
   "outputs": [],
   "source": []
  }
 ],
 "metadata": {
  "kernelspec": {
   "display_name": "Python 2",
   "language": "python",
   "name": "python2"
  },
  "language_info": {
   "codemirror_mode": {
    "name": "ipython",
    "version": 2
   },
   "file_extension": ".py",
   "mimetype": "text/x-python",
   "name": "python",
   "nbconvert_exporter": "python",
   "pygments_lexer": "ipython2",
   "version": "2.7.11"
  }
 },
 "nbformat": 4,
 "nbformat_minor": 0
}
