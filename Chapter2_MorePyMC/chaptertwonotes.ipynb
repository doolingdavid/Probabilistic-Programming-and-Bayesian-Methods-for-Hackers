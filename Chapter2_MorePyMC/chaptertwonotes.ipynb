{
 "cells": [
  {
   "cell_type": "code",
   "execution_count": 1,
   "metadata": {
    "collapsed": true
   },
   "outputs": [],
   "source": [
    "import numpy as np\n",
    "import pandas as pd\n",
    "import matplotlib.pyplot as plt\n",
    "from pandas import Series, DataFrame\n",
    "import pytz\n",
    "from pytz import common_timezones, all_timezones\n",
    "import matplotlib\n",
    "matplotlib.style.use('ggplot')\n",
    "%matplotlib inline\n",
    "from datetime import datetime\n",
    "#from __future__ import print_function"
   ]
  },
  {
   "cell_type": "markdown",
   "metadata": {},
   "source": [
    "## 2.1 Introduction\n",
    "\n",
    "This chapter introduces more PyMC syntax and design patterns, and ways to think about how to model a system from a Bayesian perspective. It also contains tips and data visualization techniques for assesing goodness of fit for your Bayesian model."
   ]
  },
  {
   "cell_type": "markdown",
   "metadata": {},
   "source": [
    "#### 2.1.1 Parent and Child Relationships\n",
    "\n",
    "To assist with describing Bayesisan relationships and to be consistent with PyMC's documentation, we introduce _parent_ and _child_ variables.\n",
    "\n",
    "* **Parent variables** are variables that influence another variable.\n",
    "* **Child variables** are variables that are affected by other variables - that is, are the subject of parent variables.\n",
    "\n",
    "A variable can be both a parent and child. For example, consider the following PyMC code:"
   ]
  },
  {
   "cell_type": "code",
   "execution_count": 2,
   "metadata": {
    "collapsed": true
   },
   "outputs": [],
   "source": [
    "import pymc as pm\n",
    "\n",
    "lambda_ = pm.Exponential(\"poisson_param\", 1)\n",
    "# used in the call to the next variable ...\n",
    "data_generator = pm.Poisson(\"data_generator\", lambda_)\n",
    "\n",
    "data_plus_one = data_generator + 1"
   ]
  },
  {
   "cell_type": "markdown",
   "metadata": {},
   "source": [
    "```lambda_``` controls the parameter of ```data_generator```, hence influences its values. The former is a parent of the latter. By symmetry, ```data_generator``` is a child of ```lambda_```.\n",
    "\n",
    "Likewise, ```data_generator``` is a parent to the variable ```data_plus_one``` (hence making ```data_generator``` both a parent and child variable). Although it does not look like one, ```data_plus_one``` should be treated as a PyMC variable as it is a _function_ of another PyMC variable, hence is a child variable to ```data_generator```\n",
    "\n",
    "This nomentclature is introduced to help us describe relationships in PyMC modeling. You can access a variable's children and parent variables using the ```children``` and ```parents``` attributes attached to variables.\n",
    "\n"
   ]
  },
  {
   "cell_type": "code",
   "execution_count": 3,
   "metadata": {
    "collapsed": false
   },
   "outputs": [
    {
     "name": "stdout",
     "output_type": "stream",
     "text": [
      "Children of 'lambda_': \n",
      "set([<pymc.distributions.Poisson 'data_generator' at 0x000000000C7F2240>])\n",
      "\n",
      " Parents of 'data_generator': \n",
      "{'mu': <pymc.distributions.Exponential 'poisson_param' at 0x0000000008B965C0>}\n",
      "\n",
      " Children of 'data_generator': \n",
      "set([<pymc.PyMCObjects.Deterministic '(data_generator_add_1)' at 0x0000000008B964A8>])\n"
     ]
    }
   ],
   "source": [
    "print \"Children of 'lambda_': \"\n",
    "print lambda_.children\n",
    "print \"\\n Parents of 'data_generator': \"\n",
    "print data_generator.parents\n",
    "print \"\\n Children of 'data_generator': \"\n",
    "print data_generator.children"
   ]
  },
  {
   "cell_type": "markdown",
   "metadata": {},
   "source": [
    "### 2.1.2 PyMC Variables\n",
    "\n",
    "All PyMC variables expose a ```value``` property. This property produces the _current_ (possibly random) internal value of the variable. If the variable is a child variable, its value changes given the variable's parents' values.\n",
    "Using the same variables from before:"
   ]
  },
  {
   "cell_type": "code",
   "execution_count": 4,
   "metadata": {
    "collapsed": false
   },
   "outputs": [
    {
     "name": "stdout",
     "output_type": "stream",
     "text": [
      "lambda_.value =  0.714540440115\n",
      "data_generator.value =  0\n",
      "data_plus_one.value =  1\n"
     ]
    }
   ],
   "source": [
    "print \"lambda_.value = \", lambda_.value\n",
    "print \"data_generator.value = \", data_generator.value\n",
    "print \"data_plus_one.value = \", data_plus_one.value"
   ]
  },
  {
   "cell_type": "markdown",
   "metadata": {},
   "source": [
    "PyMC is concerned with two types of programming variables: ```Stochastic``` and ```deterministic```.\n",
    "\n",
    "* **Stochastic variables** are variables that are not deterministic, i.e. even if you knew all the values of the variables' parents (if if even has any parents), it would still be random. Included in this category are instances of classes ```Poisson, DiscreteUniform```, and ```Exponential```.\n",
    "* **Deterministic variables** are variables that are not random if the variables's parents are known. This might be confusing at first; a quick mental check is _if I knew all of the variale foo's parent variables' values, I could determine exactly what foo's value is._"
   ]
  },
  {
   "cell_type": "markdown",
   "metadata": {},
   "source": [
    "### Initializing Stochastic Variables\n",
    "\n",
    "The first argument in initializing a stochastic variable is a string that represents the name of the variable.\n",
    "After that are additional arguments that are class-specific. Zum Beispeil:"
   ]
  },
  {
   "cell_type": "code",
   "execution_count": 5,
   "metadata": {
    "collapsed": true
   },
   "outputs": [],
   "source": [
    "some_variable = pm.DiscreteUniform(\"discrete_uni_var\", 0, 4)"
   ]
  },
  {
   "cell_type": "markdown",
   "metadata": {},
   "source": [
    "where 0, 4 are the ```DiscreteUniform```-specific lower and upper bound on the random variable."
   ]
  },
  {
   "cell_type": "code",
   "execution_count": 7,
   "metadata": {
    "collapsed": true
   },
   "outputs": [],
   "source": [
    "# pm.DiscreteUniform??"
   ]
  },
  {
   "cell_type": "markdown",
   "metadata": {},
   "source": [
    "The name argument is used to retreive the posterior distribution later in the analysis, so it is best to use a descriptive name. Typically, I use the Python variable's name.\n",
    "\n",
    "For multivariable problems, rather than creating a Python array of stochastic variables, setting the ```size``` keyword in the call to a ```Stochastic``` variable creates an array of (independent) stochastic variables. The array behaves like a NumPy array when used like one, and references to its ```value``` attribute return NumPy arrays.\n",
    "\n",
    "The ```size``` argument also solves the annoying case wher eyou may have many variables\n",
    "$\\beta_i, i = 1, ... N$ you wish to model.\n",
    "Instead of creating arbitrary names and variabels for each one, like:\n",
    "\n",
    "```\n",
    "beta_1 = pm.Uniform(\"beta_1\", 0, 1)\n",
    "beta_2 = pm.Uniform(\"beta_2\", 0, 1)\n",
    "...\n",
    "```\n",
    "\n",
    "We can instead wrap them in a single variable:\n",
    "```\n",
    "betas = pm.Uniform(\"betas\", 0, 1, size=N)\n",
    "```"
   ]
  },
  {
   "cell_type": "code",
   "execution_count": 9,
   "metadata": {
    "collapsed": true
   },
   "outputs": [],
   "source": [
    "## pm.Uniform??"
   ]
  },
  {
   "cell_type": "markdown",
   "metadata": {},
   "source": [
    "### Calling ```random()```\n",
    "\n",
    "We can also call on a stochastic variable's ```random()``` method, which (given the parent values) will generate a new, random value.\n",
    "We demonstrate this using the texting example from Chapter 1"
   ]
  },
  {
   "cell_type": "code",
   "execution_count": 11,
   "metadata": {
    "collapsed": true
   },
   "outputs": [],
   "source": [
    "lambda_1 = pm.Exponential(\"lambda_1\", 1) # prior on first behavior\n",
    "lambda_2 = pm.Exponential(\"lambda_2\", 1) # prior on second behavior\n",
    "tau = pm.DiscreteUniform(\"tau\", lower=0, upper = 10) # prior on behavior change"
   ]
  },
  {
   "cell_type": "code",
   "execution_count": 14,
   "metadata": {
    "collapsed": false
   },
   "outputs": [
    {
     "name": "stdout",
     "output_type": "stream",
     "text": [
      "Initialized values ... \n",
      "lambda_1.value: 0.465 \n",
      "lambda_2.value: 0.998 \n",
      "tau.value: 6.000 \n",
      "After calling random() on the variables ... \n",
      "lambda_1.value: 0.042 \n",
      "lambda_2.value: 0.440 \n",
      "tau.value: 10.000 \n"
     ]
    }
   ],
   "source": [
    "print \"Initialized values ... \"\n",
    "print \"lambda_1.value: %.3f \" % lambda_1.value\n",
    "print \"lambda_2.value: %.3f \" % lambda_2.value\n",
    "print \"tau.value: %.3f \" % tau.value\n",
    "\n",
    "lambda_1.random(), lambda_2.random(), tau.random()\n",
    "\n",
    "print \"After calling random() on the variables ... \"\n",
    "print \"lambda_1.value: %.3f \" % lambda_1.value\n",
    "print \"lambda_2.value: %.3f \" % lambda_2.value\n",
    "print \"tau.value: %.3f \" % tau.value"
   ]
  },
  {
   "cell_type": "code",
   "execution_count": null,
   "metadata": {
    "collapsed": true
   },
   "outputs": [],
   "source": []
  },
  {
   "cell_type": "code",
   "execution_count": null,
   "metadata": {
    "collapsed": true
   },
   "outputs": [],
   "source": []
  }
 ],
 "metadata": {
  "kernelspec": {
   "display_name": "Python 2",
   "language": "python",
   "name": "python2"
  },
  "language_info": {
   "codemirror_mode": {
    "name": "ipython",
    "version": 2
   },
   "file_extension": ".py",
   "mimetype": "text/x-python",
   "name": "python",
   "nbconvert_exporter": "python",
   "pygments_lexer": "ipython2",
   "version": "2.7.11"
  }
 },
 "nbformat": 4,
 "nbformat_minor": 0
}
